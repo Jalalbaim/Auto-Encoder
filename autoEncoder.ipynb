{
  "cells": [
    {
      "cell_type": "markdown",
      "metadata": {
        "id": "view-in-github",
        "colab_type": "text"
      },
      "source": [
        "<a href=\"https://colab.research.google.com/github/Jalalbaim/Auto-Encoder/blob/main/autoEncoder.ipynb\" target=\"_parent\"><img src=\"https://colab.research.google.com/assets/colab-badge.svg\" alt=\"Open In Colab\"/></a>"
      ]
    },
    {
      "cell_type": "markdown",
      "metadata": {
        "id": "3_qqtuzTKkUa"
      },
      "source": [
        "# AutoEncoder\n",
        "Baim Mohamed"
      ]
    },
    {
      "cell_type": "code",
      "execution_count": 1,
      "metadata": {
        "id": "rUFKzIScKkUb"
      },
      "outputs": [],
      "source": [
        "# Libraries\n",
        "\n",
        "import numpy as np\n",
        "import matplotlib.pyplot as plt\n",
        "import torch\n",
        "from torch import nn\n",
        "from torch.utils.data import DataLoader\n",
        "from torchvision import datasets\n",
        "from torchvision.transforms import ToTensor"
      ]
    },
    {
      "cell_type": "code",
      "execution_count": 2,
      "metadata": {
        "colab": {
          "base_uri": "https://localhost:8080/"
        },
        "id": "1n_tK_yJKkUb",
        "outputId": "be55f446-7109-4d93-b718-be46088e39b0"
      },
      "outputs": [
        {
          "output_type": "stream",
          "name": "stdout",
          "text": [
            "Using cuda device\n"
          ]
        }
      ],
      "source": [
        "device = \"cuda\" if torch.cuda.is_available() else \"cpu\"\n",
        "print(f\"Using {device} device\")"
      ]
    },
    {
      "cell_type": "code",
      "execution_count": 3,
      "metadata": {
        "id": "ZaBQkXozKkUb",
        "colab": {
          "base_uri": "https://localhost:8080/"
        },
        "outputId": "bc66c4b2-c1c3-43a6-befb-f3b2bd007d02"
      },
      "outputs": [
        {
          "output_type": "stream",
          "name": "stdout",
          "text": [
            "Downloading http://fashion-mnist.s3-website.eu-central-1.amazonaws.com/train-images-idx3-ubyte.gz\n",
            "Downloading http://fashion-mnist.s3-website.eu-central-1.amazonaws.com/train-images-idx3-ubyte.gz to data/FashionMNIST/raw/train-images-idx3-ubyte.gz\n"
          ]
        },
        {
          "output_type": "stream",
          "name": "stderr",
          "text": [
            "100%|██████████| 26421880/26421880 [00:10<00:00, 2542799.16it/s]\n"
          ]
        },
        {
          "output_type": "stream",
          "name": "stdout",
          "text": [
            "Extracting data/FashionMNIST/raw/train-images-idx3-ubyte.gz to data/FashionMNIST/raw\n",
            "\n",
            "Downloading http://fashion-mnist.s3-website.eu-central-1.amazonaws.com/train-labels-idx1-ubyte.gz\n",
            "Downloading http://fashion-mnist.s3-website.eu-central-1.amazonaws.com/train-labels-idx1-ubyte.gz to data/FashionMNIST/raw/train-labels-idx1-ubyte.gz\n"
          ]
        },
        {
          "output_type": "stream",
          "name": "stderr",
          "text": [
            "100%|██████████| 29515/29515 [00:00<00:00, 274456.90it/s]\n"
          ]
        },
        {
          "output_type": "stream",
          "name": "stdout",
          "text": [
            "Extracting data/FashionMNIST/raw/train-labels-idx1-ubyte.gz to data/FashionMNIST/raw\n",
            "\n",
            "Downloading http://fashion-mnist.s3-website.eu-central-1.amazonaws.com/t10k-images-idx3-ubyte.gz\n",
            "Downloading http://fashion-mnist.s3-website.eu-central-1.amazonaws.com/t10k-images-idx3-ubyte.gz to data/FashionMNIST/raw/t10k-images-idx3-ubyte.gz\n"
          ]
        },
        {
          "output_type": "stream",
          "name": "stderr",
          "text": [
            "100%|██████████| 4422102/4422102 [00:00<00:00, 5063444.46it/s]\n"
          ]
        },
        {
          "output_type": "stream",
          "name": "stdout",
          "text": [
            "Extracting data/FashionMNIST/raw/t10k-images-idx3-ubyte.gz to data/FashionMNIST/raw\n",
            "\n",
            "Downloading http://fashion-mnist.s3-website.eu-central-1.amazonaws.com/t10k-labels-idx1-ubyte.gz\n",
            "Downloading http://fashion-mnist.s3-website.eu-central-1.amazonaws.com/t10k-labels-idx1-ubyte.gz to data/FashionMNIST/raw/t10k-labels-idx1-ubyte.gz\n"
          ]
        },
        {
          "output_type": "stream",
          "name": "stderr",
          "text": [
            "100%|██████████| 5148/5148 [00:00<00:00, 17540436.22it/s]"
          ]
        },
        {
          "output_type": "stream",
          "name": "stdout",
          "text": [
            "Extracting data/FashionMNIST/raw/t10k-labels-idx1-ubyte.gz to data/FashionMNIST/raw\n",
            "\n"
          ]
        },
        {
          "output_type": "stream",
          "name": "stderr",
          "text": [
            "\n"
          ]
        }
      ],
      "source": [
        "# Download training data from open datasets.\n",
        "training_data = datasets.FashionMNIST(\n",
        "    root=\"data\",\n",
        "    train=True,\n",
        "    download=True,\n",
        "    transform=ToTensor(),\n",
        ")\n",
        "\n",
        "# Download test data from open datasets.\n",
        "test_data = datasets.FashionMNIST(\n",
        "    root=\"data\",\n",
        "    train=False,\n",
        "    download=True,\n",
        "    transform=ToTensor(),\n",
        ")"
      ]
    },
    {
      "cell_type": "code",
      "source": [
        "# Accès aux labels pour une image spécifique\n",
        "label_index = training_data.targets[0]  # Pour obtenir le label de la première image\n",
        "label_name = [\n",
        "    \"T-shirt/top\", \"Trouser\", \"Pullover\", \"Dress\", \"Coat\",\n",
        "    \"Sandal\", \"Shirt\", \"Sneaker\", \"Bag\", \"Ankle boot\"\n",
        "][label_index]\n",
        "\n",
        "print(\"Label index:\", label_index)\n",
        "print(\"Label name:\", label_name)\n"
      ],
      "metadata": {
        "colab": {
          "base_uri": "https://localhost:8080/"
        },
        "id": "psEEwa89SPui",
        "outputId": "28efa0ba-b0ca-4230-d756-9979d3a9db41"
      },
      "execution_count": 4,
      "outputs": [
        {
          "output_type": "stream",
          "name": "stdout",
          "text": [
            "Label index: tensor(9)\n",
            "Label name: Ankle boot\n"
          ]
        }
      ]
    },
    {
      "cell_type": "code",
      "execution_count": 5,
      "metadata": {
        "colab": {
          "base_uri": "https://localhost:8080/"
        },
        "id": "mSTZqmkUKkUb",
        "outputId": "9febf90f-f304-4586-ab37-d72ec81c1a4d"
      },
      "outputs": [
        {
          "output_type": "stream",
          "name": "stdout",
          "text": [
            "Shape of X [N, C, H, W]: torch.Size([64, 1, 28, 28])\n",
            "Shape of y: torch.Size([64]) torch.int64\n"
          ]
        }
      ],
      "source": [
        "batch_size = 64\n",
        "\n",
        "# Create data loaders.\n",
        "train_dataloader = DataLoader(training_data, batch_size=batch_size)\n",
        "test_dataloader = DataLoader(test_data, batch_size=batch_size)\n",
        "\n",
        "for X, y in test_dataloader:\n",
        "    print(f\"Shape of X [N, C, H, W]: {X.shape}\")\n",
        "    print(f\"Shape of y: {y.shape} {y.dtype}\")\n",
        "    break"
      ]
    },
    {
      "cell_type": "code",
      "execution_count": 6,
      "metadata": {
        "colab": {
          "base_uri": "https://localhost:8080/"
        },
        "id": "GjMcq3elKkUb",
        "outputId": "593ddb8c-3fcb-41c5-e407-2c334dfe5fc8"
      },
      "outputs": [
        {
          "output_type": "stream",
          "name": "stdout",
          "text": [
            "Autoencoder(\n",
            "  (flatten): Flatten(start_dim=1, end_dim=-1)\n",
            "  (encoder): Sequential(\n",
            "    (0): Linear(in_features=784, out_features=256, bias=True)\n",
            "    (1): Tanh()\n",
            "    (2): Linear(in_features=256, out_features=16, bias=True)\n",
            "  )\n",
            "  (decoder): Sequential(\n",
            "    (0): Linear(in_features=16, out_features=256, bias=True)\n",
            "    (1): ReLU()\n",
            "    (2): Linear(in_features=256, out_features=784, bias=True)\n",
            "    (3): Sigmoid()\n",
            "  )\n",
            ")\n"
          ]
        }
      ],
      "source": [
        "class Autoencoder(nn.Module):\n",
        "    def __init__(self, input_dim, encoding_dim):\n",
        "        super(Autoencoder, self).__init__()\n",
        "\n",
        "        self.flatten = nn.Flatten()\n",
        "\n",
        "        #encoder\n",
        "        self.encoder = nn.Sequential(\n",
        "            nn.Linear(input_dim, 256),\n",
        "            nn.Tanh(),\n",
        "            nn.Linear(256, encoding_dim),\n",
        "            )\n",
        "\n",
        "\n",
        "        #decoder\n",
        "        self.decoder = nn.Sequential(\n",
        "            nn.Linear(encoding_dim, 256),\n",
        "            nn.ReLU(),\n",
        "            nn.Linear(256, input_dim),\n",
        "            nn.Sigmoid())\n",
        "\n",
        "    def forward(self, x):\n",
        "        x = self.flatten(x)\n",
        "        encoded = self.encoder(x)\n",
        "        decoded = self.decoder(encoded)\n",
        "        return decoded\n",
        "\n",
        "\n",
        "\n",
        "autoencoder = Autoencoder(28*28, 16).to(device)\n",
        "print(autoencoder)\n"
      ]
    },
    {
      "cell_type": "code",
      "execution_count": 7,
      "metadata": {
        "id": "tqNLVtuXKkUc"
      },
      "outputs": [],
      "source": [
        "loss_fn = nn.MSELoss()\n",
        "optimizer = torch.optim.Adam(autoencoder.parameters(), lr=1e-3)"
      ]
    },
    {
      "cell_type": "code",
      "execution_count": 8,
      "metadata": {
        "id": "z4L3EC6bKkUc"
      },
      "outputs": [],
      "source": [
        "def train(dataloader, model, loss_fn, optimizer):\n",
        "    size = len(dataloader.dataset)\n",
        "    model.train()\n",
        "    for batch, (X, _) in enumerate(dataloader):\n",
        "        X = X.to(device)\n",
        "        X = X.view(-1, 28*28)\n",
        "\n",
        "        pred = model(X)\n",
        "        loss = loss_fn(pred, X)\n",
        "\n",
        "        # Backpropagation\n",
        "        optimizer.zero_grad()\n",
        "        loss.backward()\n",
        "        optimizer.step()\n",
        "\n",
        "        if batch % 100 == 0:\n",
        "            loss, current = loss.item(), batch * len(X)\n",
        "            print(f\"loss: {loss:>7f}  [{current:>5d}/{size:>5d}]\")\n"
      ]
    },
    {
      "cell_type": "code",
      "execution_count": 9,
      "metadata": {
        "id": "ETqe-h_eKkUc"
      },
      "outputs": [],
      "source": [
        "def test(dataloader, model, loss_fn):\n",
        "    model.eval()\n",
        "    test_loss = 0\n",
        "    with torch.no_grad():\n",
        "        for X, _ in dataloader:\n",
        "            X = X.to(device)\n",
        "            X = X.view(-1, 28*28)\n",
        "            pred = model(X)\n",
        "            test_loss += loss_fn(pred, X).item()\n",
        "\n",
        "    num_batches = len(dataloader)\n",
        "    test_loss /= num_batches\n",
        "    print(f\"Avg loss: {test_loss:>8f} \\n\")\n"
      ]
    },
    {
      "cell_type": "code",
      "execution_count": 10,
      "metadata": {
        "colab": {
          "base_uri": "https://localhost:8080/"
        },
        "id": "V94ua54JKkUc",
        "outputId": "25fc94c4-ff99-4e80-98a2-bdab6c010e17"
      },
      "outputs": [
        {
          "output_type": "stream",
          "name": "stdout",
          "text": [
            "Epoch 1\n",
            "-------------------------------\n",
            "loss: 0.172137  [    0/60000]\n",
            "loss: 0.032715  [ 6400/60000]\n",
            "loss: 0.024611  [12800/60000]\n",
            "loss: 0.023494  [19200/60000]\n",
            "loss: 0.022090  [25600/60000]\n",
            "loss: 0.021493  [32000/60000]\n",
            "loss: 0.018599  [38400/60000]\n",
            "loss: 0.016852  [44800/60000]\n",
            "loss: 0.017601  [51200/60000]\n",
            "loss: 0.017626  [57600/60000]\n",
            "Avg loss: 0.017476 \n",
            "\n",
            "Epoch 2\n",
            "-------------------------------\n",
            "loss: 0.017158  [    0/60000]\n",
            "loss: 0.017137  [ 6400/60000]\n",
            "loss: 0.015517  [12800/60000]\n",
            "loss: 0.015617  [19200/60000]\n",
            "loss: 0.015370  [25600/60000]\n",
            "loss: 0.015670  [32000/60000]\n",
            "loss: 0.014560  [38400/60000]\n",
            "loss: 0.013173  [44800/60000]\n",
            "loss: 0.014241  [51200/60000]\n",
            "loss: 0.015166  [57600/60000]\n",
            "Avg loss: 0.015075 \n",
            "\n",
            "Epoch 3\n",
            "-------------------------------\n",
            "loss: 0.014380  [    0/60000]\n",
            "loss: 0.014798  [ 6400/60000]\n",
            "loss: 0.013354  [12800/60000]\n",
            "loss: 0.013620  [19200/60000]\n",
            "loss: 0.013754  [25600/60000]\n",
            "loss: 0.014267  [32000/60000]\n",
            "loss: 0.013225  [38400/60000]\n",
            "loss: 0.012193  [44800/60000]\n",
            "loss: 0.012887  [51200/60000]\n",
            "loss: 0.013977  [57600/60000]\n",
            "Avg loss: 0.013759 \n",
            "\n",
            "Epoch 4\n",
            "-------------------------------\n",
            "loss: 0.012976  [    0/60000]\n",
            "loss: 0.013995  [ 6400/60000]\n",
            "loss: 0.012773  [12800/60000]\n",
            "loss: 0.013054  [19200/60000]\n",
            "loss: 0.012900  [25600/60000]\n",
            "loss: 0.013424  [32000/60000]\n",
            "loss: 0.012712  [38400/60000]\n",
            "loss: 0.011653  [44800/60000]\n",
            "loss: 0.012183  [51200/60000]\n",
            "loss: 0.013353  [57600/60000]\n",
            "Avg loss: 0.013104 \n",
            "\n",
            "Epoch 5\n",
            "-------------------------------\n",
            "loss: 0.012228  [    0/60000]\n",
            "loss: 0.013434  [ 6400/60000]\n",
            "loss: 0.012408  [12800/60000]\n",
            "loss: 0.012407  [19200/60000]\n",
            "loss: 0.012264  [25600/60000]\n",
            "loss: 0.012954  [32000/60000]\n",
            "loss: 0.012202  [38400/60000]\n",
            "loss: 0.011298  [44800/60000]\n",
            "loss: 0.011773  [51200/60000]\n",
            "loss: 0.013026  [57600/60000]\n",
            "Avg loss: 0.012678 \n",
            "\n",
            "Epoch 6\n",
            "-------------------------------\n",
            "loss: 0.011679  [    0/60000]\n",
            "loss: 0.013065  [ 6400/60000]\n",
            "loss: 0.012084  [12800/60000]\n",
            "loss: 0.012030  [19200/60000]\n",
            "loss: 0.011904  [25600/60000]\n",
            "loss: 0.012502  [32000/60000]\n",
            "loss: 0.011912  [38400/60000]\n",
            "loss: 0.011017  [44800/60000]\n",
            "loss: 0.011416  [51200/60000]\n",
            "loss: 0.012734  [57600/60000]\n",
            "Avg loss: 0.012399 \n",
            "\n",
            "Epoch 7\n",
            "-------------------------------\n",
            "loss: 0.011346  [    0/60000]\n",
            "loss: 0.012788  [ 6400/60000]\n",
            "loss: 0.011717  [12800/60000]\n",
            "loss: 0.011761  [19200/60000]\n",
            "loss: 0.011588  [25600/60000]\n",
            "loss: 0.012239  [32000/60000]\n",
            "loss: 0.011686  [38400/60000]\n",
            "loss: 0.010874  [44800/60000]\n",
            "loss: 0.011267  [51200/60000]\n",
            "loss: 0.012479  [57600/60000]\n",
            "Avg loss: 0.012186 \n",
            "\n",
            "Epoch 8\n",
            "-------------------------------\n",
            "loss: 0.011087  [    0/60000]\n",
            "loss: 0.012584  [ 6400/60000]\n",
            "loss: 0.011424  [12800/60000]\n",
            "loss: 0.011563  [19200/60000]\n",
            "loss: 0.011543  [25600/60000]\n",
            "loss: 0.011940  [32000/60000]\n",
            "loss: 0.011416  [38400/60000]\n",
            "loss: 0.010696  [44800/60000]\n",
            "loss: 0.010897  [51200/60000]\n",
            "loss: 0.012265  [57600/60000]\n",
            "Avg loss: 0.012023 \n",
            "\n",
            "Epoch 9\n",
            "-------------------------------\n",
            "loss: 0.010846  [    0/60000]\n",
            "loss: 0.012400  [ 6400/60000]\n",
            "loss: 0.011054  [12800/60000]\n",
            "loss: 0.011401  [19200/60000]\n",
            "loss: 0.011205  [25600/60000]\n",
            "loss: 0.011788  [32000/60000]\n",
            "loss: 0.011261  [38400/60000]\n",
            "loss: 0.010454  [44800/60000]\n",
            "loss: 0.010780  [51200/60000]\n",
            "loss: 0.012138  [57600/60000]\n",
            "Avg loss: 0.011910 \n",
            "\n",
            "Epoch 10\n",
            "-------------------------------\n",
            "loss: 0.010692  [    0/60000]\n",
            "loss: 0.012251  [ 6400/60000]\n",
            "loss: 0.010891  [12800/60000]\n",
            "loss: 0.011253  [19200/60000]\n",
            "loss: 0.011136  [25600/60000]\n",
            "loss: 0.011619  [32000/60000]\n",
            "loss: 0.011142  [38400/60000]\n",
            "loss: 0.010342  [44800/60000]\n",
            "loss: 0.010650  [51200/60000]\n",
            "loss: 0.012014  [57600/60000]\n",
            "Avg loss: 0.011822 \n",
            "\n",
            "Done!\n"
          ]
        }
      ],
      "source": [
        "epochs = 10\n",
        "for t in range(epochs):\n",
        "    print(f\"Epoch {t+1}\\n-------------------------------\")\n",
        "    train(train_dataloader, autoencoder, loss_fn, optimizer)\n",
        "    test(test_dataloader, autoencoder, loss_fn)\n",
        "print(\"Done!\")"
      ]
    },
    {
      "cell_type": "code",
      "execution_count": 11,
      "metadata": {
        "id": "l39SXZGUKkUc",
        "colab": {
          "base_uri": "https://localhost:8080/",
          "height": 270
        },
        "outputId": "6c05ae29-2018-450b-ded8-506440cc7d00"
      },
      "outputs": [
        {
          "output_type": "display_data",
          "data": {
            "text/plain": [
              "<Figure size 600x300 with 2 Axes>"
            ],
            "image/png": "[encoded data removed]"
          },
          "metadata": {}
        }
      ],
      "source": [
        "autoencoder.eval()\n",
        "\n",
        "image = test_data[0][0].unsqueeze(0).to(device)\n",
        "\n",
        "image_flattened = image.view(-1, 28*28)\n",
        "\n",
        "with torch.no_grad():\n",
        "    output = autoencoder(image_flattened)\n",
        "    output = output.view(28, 28)\n",
        "\n",
        "figure, ax = plt.subplots(1, 2, figsize=(6, 3))\n",
        "\n",
        "ax[0].imshow(image[0][0].cpu(), cmap='gray')\n",
        "ax[0].title.set_text('Original Image')\n",
        "ax[0].axis('off')\n",
        "\n",
        "\n",
        "ax[1].imshow(output.cpu(), cmap='gray')\n",
        "ax[1].title.set_text('Reconstructed Image')\n",
        "ax[1].axis('off')\n",
        "\n",
        "plt.show()"
      ]
    },
    {
      "cell_type": "code",
      "source": [
        "\n",
        "autoencoder.eval()\n",
        "\n",
        "figure, axes = plt.subplots(5, 2, figsize=(6, 15))\n",
        "\n",
        "\n",
        "for i in range(5):\n",
        "    image = test_data[i][0].unsqueeze(0).to(device)\n",
        "\n",
        "    image_flattened = image.view(-1, 28*28)\n",
        "\n",
        "    with torch.no_grad():\n",
        "        output = autoencoder(image_flattened)\n",
        "        output = output.view(28, 28)\n",
        "\n",
        "    # Afficher l'image originale\n",
        "    axes[i, 0].imshow(image[0][0].cpu(), cmap='gray')\n",
        "    axes[i, 0].title.set_text('Original Image')\n",
        "    axes[i, 0].axis('off')\n",
        "\n",
        "    # Afficher l'image reconstruite\n",
        "    axes[i, 1].imshow(output.cpu(), cmap='gray')\n",
        "    axes[i, 1].title.set_text('Reconstructed Image')\n",
        "    axes[i, 1].axis('off')\n",
        "\n",
        "# Afficher toutes les images\n",
        "plt.show()\n"
      ],
      "metadata": {
        "colab": {
          "base_uri": "https://localhost:8080/",
          "height": 1000
        },
        "id": "10mwZlESmW7l",
        "outputId": "05ff5994-9e4f-4484-d1e1-ed05a07bb49b"
      },
      "execution_count": 12,
      "outputs": [
        {
          "output_type": "display_data",
          "data": {
            "text/plain": [
              "<Figure size 600x1500 with 10 Axes>"
            ],
            "image/png": "[encoded data removed]"
          },
          "metadata": {}
        }
      ]
    }
  ],
  "metadata": {
    "kernelspec": {
      "display_name": "Python 3",
      "name": "python3"
    },
    "language_info": {
      "codemirror_mode": {
        "name": "ipython",
        "version": 3
      },
      "file_extension": ".py",
      "mimetype": "text/x-python",
      "name": "python",
      "nbconvert_exporter": "python",
      "pygments_lexer": "ipython3",
      "version": "3.11.3"
    },
    "colab": {
      "provenance": [],
      "gpuType": "T4",
      "include_colab_link": true
    },
    "accelerator": "GPU"
  },
  "nbformat": 4,
  "nbformat_minor": 0
}