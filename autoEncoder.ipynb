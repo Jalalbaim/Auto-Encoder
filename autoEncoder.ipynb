{
  "cells": [
    {
      "cell_type": "markdown",
      "metadata": {
        "id": "view-in-github",
        "colab_type": "text"
      },
      "source": [
        "<a href=\"https://colab.research.google.com/github/Jalalbaim/Auto-Encoder/blob/main/autoEncoder.ipynb\" target=\"_parent\"><img src=\"https://colab.research.google.com/assets/colab-badge.svg\" alt=\"Open In Colab\"/></a>"
      ]
    },
    {
      "cell_type": "markdown",
      "metadata": {
        "id": "3_qqtuzTKkUa"
      },
      "source": [
        "# AutoEncoder\n",
        "Baim Mohamed"
      ]
    },
    {
      "cell_type": "code",
      "execution_count": 1,
      "metadata": {
        "id": "rUFKzIScKkUb"
      },
      "outputs": [],
      "source": [
        "# Libraries\n",
        "\n",
        "import numpy as np\n",
        "import matplotlib.pyplot as plt\n",
        "import torch\n",
        "from torch import nn\n",
        "from torch.utils.data import DataLoader\n",
        "from torchvision import datasets\n",
        "from torchvision.transforms import ToTensor"
      ]
    },
    {
      "cell_type": "code",
      "execution_count": 2,
      "metadata": {
        "colab": {
          "base_uri": "https://localhost:8080/"
        },
        "id": "1n_tK_yJKkUb",
        "outputId": "225bfd2c-7d8d-42e4-f158-1b1698f1e7d6"
      },
      "outputs": [
        {
          "output_type": "stream",
          "name": "stdout",
          "text": [
            "Using cuda device\n"
          ]
        }
      ],
      "source": [
        "device = \"cuda\" if torch.cuda.is_available() else \"cpu\"\n",
        "print(f\"Using {device} device\")"
      ]
    },
    {
      "cell_type": "code",
      "execution_count": 3,
      "metadata": {
        "colab": {
          "base_uri": "https://localhost:8080/"
        },
        "id": "ZaBQkXozKkUb",
        "outputId": "15b3cfa9-5702-446c-d5ab-489c32df29a0"
      },
      "outputs": [
        {
          "output_type": "stream",
          "name": "stdout",
          "text": [
            "Downloading http://fashion-mnist.s3-website.eu-central-1.amazonaws.com/train-images-idx3-ubyte.gz\n",
            "Downloading http://fashion-mnist.s3-website.eu-central-1.amazonaws.com/train-images-idx3-ubyte.gz to data/FashionMNIST/raw/train-images-idx3-ubyte.gz\n"
          ]
        },
        {
          "output_type": "stream",
          "name": "stderr",
          "text": [
            "100%|██████████| 26421880/26421880 [00:01<00:00, 16187141.71it/s]\n"
          ]
        },
        {
          "output_type": "stream",
          "name": "stdout",
          "text": [
            "Extracting data/FashionMNIST/raw/train-images-idx3-ubyte.gz to data/FashionMNIST/raw\n",
            "\n",
            "Downloading http://fashion-mnist.s3-website.eu-central-1.amazonaws.com/train-labels-idx1-ubyte.gz\n",
            "Downloading http://fashion-mnist.s3-website.eu-central-1.amazonaws.com/train-labels-idx1-ubyte.gz to data/FashionMNIST/raw/train-labels-idx1-ubyte.gz\n"
          ]
        },
        {
          "output_type": "stream",
          "name": "stderr",
          "text": [
            "100%|██████████| 29515/29515 [00:00<00:00, 262816.29it/s]\n"
          ]
        },
        {
          "output_type": "stream",
          "name": "stdout",
          "text": [
            "Extracting data/FashionMNIST/raw/train-labels-idx1-ubyte.gz to data/FashionMNIST/raw\n",
            "\n",
            "Downloading http://fashion-mnist.s3-website.eu-central-1.amazonaws.com/t10k-images-idx3-ubyte.gz\n",
            "Downloading http://fashion-mnist.s3-website.eu-central-1.amazonaws.com/t10k-images-idx3-ubyte.gz to data/FashionMNIST/raw/t10k-images-idx3-ubyte.gz\n"
          ]
        },
        {
          "output_type": "stream",
          "name": "stderr",
          "text": [
            "100%|██████████| 4422102/4422102 [00:00<00:00, 5101125.17it/s]\n"
          ]
        },
        {
          "output_type": "stream",
          "name": "stdout",
          "text": [
            "Extracting data/FashionMNIST/raw/t10k-images-idx3-ubyte.gz to data/FashionMNIST/raw\n",
            "\n",
            "Downloading http://fashion-mnist.s3-website.eu-central-1.amazonaws.com/t10k-labels-idx1-ubyte.gz\n",
            "Downloading http://fashion-mnist.s3-website.eu-central-1.amazonaws.com/t10k-labels-idx1-ubyte.gz to data/FashionMNIST/raw/t10k-labels-idx1-ubyte.gz\n"
          ]
        },
        {
          "output_type": "stream",
          "name": "stderr",
          "text": [
            "100%|██████████| 5148/5148 [00:00<00:00, 6457020.63it/s]"
          ]
        },
        {
          "output_type": "stream",
          "name": "stdout",
          "text": [
            "Extracting data/FashionMNIST/raw/t10k-labels-idx1-ubyte.gz to data/FashionMNIST/raw\n",
            "\n"
          ]
        },
        {
          "output_type": "stream",
          "name": "stderr",
          "text": [
            "\n"
          ]
        }
      ],
      "source": [
        "# Download training data from open datasets.\n",
        "training_data = datasets.FashionMNIST(\n",
        "    root=\"data\",\n",
        "    train=True,\n",
        "    download=True,\n",
        "    transform=ToTensor(),\n",
        ")\n",
        "\n",
        "# Download test data from open datasets.\n",
        "test_data = datasets.FashionMNIST(\n",
        "    root=\"data\",\n",
        "    train=False,\n",
        "    download=True,\n",
        "    transform=ToTensor(),\n",
        ")"
      ]
    },
    {
      "cell_type": "code",
      "execution_count": 4,
      "metadata": {
        "colab": {
          "base_uri": "https://localhost:8080/"
        },
        "id": "mSTZqmkUKkUb",
        "outputId": "957af117-d1ad-4022-aab9-bd254cd0855a"
      },
      "outputs": [
        {
          "output_type": "stream",
          "name": "stdout",
          "text": [
            "Shape of X [N, C, H, W]: torch.Size([64, 1, 28, 28])\n",
            "Shape of y: torch.Size([64]) torch.int64\n"
          ]
        }
      ],
      "source": [
        "batch_size = 64\n",
        "\n",
        "# Create data loaders.\n",
        "train_dataloader = DataLoader(training_data, batch_size=batch_size)\n",
        "test_dataloader = DataLoader(test_data, batch_size=batch_size)\n",
        "\n",
        "for X, y in test_dataloader:\n",
        "    print(f\"Shape of X [N, C, H, W]: {X.shape}\")\n",
        "    print(f\"Shape of y: {y.shape} {y.dtype}\")\n",
        "    break"
      ]
    },
    {
      "cell_type": "code",
      "execution_count": 5,
      "metadata": {
        "colab": {
          "base_uri": "https://localhost:8080/"
        },
        "id": "GjMcq3elKkUb",
        "outputId": "68407c88-e2fc-4150-caaf-a870f97444a2"
      },
      "outputs": [
        {
          "output_type": "stream",
          "name": "stdout",
          "text": [
            "Autoencoder(\n",
            "  (flatten): Flatten(start_dim=1, end_dim=-1)\n",
            "  (encoder): Sequential(\n",
            "    (0): Linear(in_features=784, out_features=2, bias=True)\n",
            "    (1): Tanh()\n",
            "  )\n",
            "  (decoder): Sequential(\n",
            "    (0): Linear(in_features=2, out_features=784, bias=True)\n",
            "  )\n",
            ")\n"
          ]
        }
      ],
      "source": [
        "class Autoencoder(nn.Module):\n",
        "    def __init__(self, input_dim, encoding_dim):\n",
        "        super(Autoencoder, self).__init__()\n",
        "\n",
        "        self.flatten = nn.Flatten()\n",
        "\n",
        "        #encoder\n",
        "        self.encoder = nn.Sequential(\n",
        "            nn.Linear(input_dim, encoding_dim),\n",
        "            nn.Tanh())\n",
        "\n",
        "\n",
        "        #decoder\n",
        "        self.decoder = nn.Sequential(\n",
        "            nn.Linear(encoding_dim, input_dim))\n",
        "\n",
        "    def forward(self, x):\n",
        "        x = self.flatten(x)\n",
        "        x = self.encoder(x)\n",
        "        x = self.decoder(x)\n",
        "        return x\n",
        "\n",
        "\n",
        "autoencoder = Autoencoder(28*28, 2).to(device)\n",
        "print(autoencoder)\n",
        ""
      ]
    },
    {
      "cell_type": "code",
      "execution_count": 6,
      "metadata": {
        "id": "tqNLVtuXKkUc"
      },
      "outputs": [],
      "source": [
        "import torch.nn.functional as F\n",
        "\n",
        "loss_fn = nn.MSELoss()\n",
        "optimizer = torch.optim.SGD(autoencoder.parameters(), lr=1e-3)"
      ]
    },
    {
      "cell_type": "code",
      "execution_count": 7,
      "metadata": {
        "id": "z4L3EC6bKkUc"
      },
      "outputs": [],
      "source": [
        "def train(dataloader, model, loss_fn, optimizer):\n",
        "    size = len(dataloader.dataset)\n",
        "    model.train()\n",
        "    for batch, (X, _) in enumerate(dataloader):\n",
        "        X = X.to(device)\n",
        "        X = X.view(-1, 28*28)\n",
        "\n",
        "        pred = model(X)\n",
        "        loss = loss_fn(pred, X)\n",
        "\n",
        "        # Backpropagation\n",
        "        optimizer.zero_grad()\n",
        "        loss.backward()\n",
        "        optimizer.step()\n",
        "\n",
        "        if batch % 100 == 0:\n",
        "            loss, current = loss.item(), batch * len(X)\n",
        "            print(f\"loss: {loss:>7f}  [{current:>5d}/{size:>5d}]\")\n"
      ]
    },
    {
      "cell_type": "code",
      "execution_count": 8,
      "metadata": {
        "id": "ETqe-h_eKkUc"
      },
      "outputs": [],
      "source": [
        "def test(dataloader, model, loss_fn):\n",
        "    model.eval()\n",
        "    test_loss = 0\n",
        "    with torch.no_grad():\n",
        "        for X, _ in dataloader:\n",
        "            X = X.to(device)\n",
        "            X = X.view(-1, 28*28)\n",
        "            pred = model(X)\n",
        "            test_loss += loss_fn(pred, X).item()\n",
        "\n",
        "    num_batches = len(dataloader)\n",
        "    test_loss /= num_batches\n",
        "    print(f\"Avg loss: {test_loss:>8f} \\n\")\n"
      ]
    },
    {
      "cell_type": "code",
      "execution_count": 9,
      "metadata": {
        "colab": {
          "base_uri": "https://localhost:8080/"
        },
        "id": "V94ua54JKkUc",
        "outputId": "2760d7ff-2813-4cc2-a63b-56a220f13abc"
      },
      "outputs": [
        {
          "output_type": "stream",
          "name": "stdout",
          "text": [
            "Epoch 1\n",
            "-------------------------------\n",
            "loss: 0.395551  [    0/60000]\n",
            "loss: 0.339343  [ 6400/60000]\n",
            "loss: 0.374848  [12800/60000]\n",
            "loss: 0.338996  [19200/60000]\n",
            "loss: 0.381913  [25600/60000]\n",
            "loss: 0.378459  [32000/60000]\n",
            "loss: 0.344869  [38400/60000]\n",
            "loss: 0.357807  [44800/60000]\n",
            "loss: 0.373889  [51200/60000]\n",
            "loss: 0.360178  [57600/60000]\n",
            "Avg loss: 0.370419 \n",
            "\n",
            "Epoch 2\n",
            "-------------------------------\n",
            "loss: 0.373715  [    0/60000]\n",
            "loss: 0.336664  [ 6400/60000]\n",
            "loss: 0.372125  [12800/60000]\n",
            "loss: 0.336837  [19200/60000]\n",
            "loss: 0.379458  [25600/60000]\n",
            "loss: 0.376219  [32000/60000]\n",
            "loss: 0.343284  [38400/60000]\n",
            "loss: 0.355735  [44800/60000]\n",
            "loss: 0.371887  [51200/60000]\n",
            "loss: 0.358338  [57600/60000]\n",
            "Avg loss: 0.368550 \n",
            "\n",
            "Epoch 3\n",
            "-------------------------------\n",
            "loss: 0.371942  [    0/60000]\n",
            "loss: 0.335148  [ 6400/60000]\n",
            "loss: 0.370400  [12800/60000]\n",
            "loss: 0.335199  [19200/60000]\n",
            "loss: 0.377722  [25600/60000]\n",
            "loss: 0.374463  [32000/60000]\n",
            "loss: 0.341789  [38400/60000]\n",
            "loss: 0.354071  [44800/60000]\n",
            "loss: 0.370203  [51200/60000]\n",
            "loss: 0.356727  [57600/60000]\n",
            "Avg loss: 0.366914 \n",
            "\n",
            "Epoch 4\n",
            "-------------------------------\n",
            "loss: 0.370334  [    0/60000]\n",
            "loss: 0.333697  [ 6400/60000]\n",
            "loss: 0.368835  [12800/60000]\n",
            "loss: 0.333698  [19200/60000]\n",
            "loss: 0.376162  [25600/60000]\n",
            "loss: 0.372843  [32000/60000]\n",
            "loss: 0.340344  [38400/60000]\n",
            "loss: 0.352546  [44800/60000]\n",
            "loss: 0.368629  [51200/60000]\n",
            "loss: 0.355210  [57600/60000]\n",
            "Avg loss: 0.365371 \n",
            "\n",
            "Epoch 5\n",
            "-------------------------------\n",
            "loss: 0.368800  [    0/60000]\n",
            "loss: 0.332282  [ 6400/60000]\n",
            "loss: 0.367336  [12800/60000]\n",
            "loss: 0.332260  [19200/60000]\n",
            "loss: 0.374676  [25600/60000]\n",
            "loss: 0.371288  [32000/60000]\n",
            "loss: 0.338935  [38400/60000]\n",
            "loss: 0.351090  [44800/60000]\n",
            "loss: 0.367114  [51200/60000]\n",
            "loss: 0.353745  [57600/60000]\n",
            "Avg loss: 0.363880 \n",
            "\n",
            "Epoch 6\n",
            "-------------------------------\n",
            "loss: 0.367312  [    0/60000]\n",
            "loss: 0.330895  [ 6400/60000]\n",
            "loss: 0.365874  [12800/60000]\n",
            "loss: 0.330863  [19200/60000]\n",
            "loss: 0.373229  [25600/60000]\n",
            "loss: 0.369775  [32000/60000]\n",
            "loss: 0.337554  [38400/60000]\n",
            "loss: 0.349675  [44800/60000]\n",
            "loss: 0.365636  [51200/60000]\n",
            "loss: 0.352315  [57600/60000]\n",
            "Avg loss: 0.362426 \n",
            "\n",
            "Epoch 7\n",
            "-------------------------------\n",
            "loss: 0.365858  [    0/60000]\n",
            "loss: 0.329532  [ 6400/60000]\n",
            "loss: 0.364438  [12800/60000]\n",
            "loss: 0.329494  [19200/60000]\n",
            "loss: 0.371809  [25600/60000]\n",
            "loss: 0.368293  [32000/60000]\n",
            "loss: 0.336197  [38400/60000]\n",
            "loss: 0.348287  [44800/60000]\n",
            "loss: 0.364187  [51200/60000]\n",
            "loss: 0.350912  [57600/60000]\n",
            "Avg loss: 0.360999 \n",
            "\n",
            "Epoch 8\n",
            "-------------------------------\n",
            "loss: 0.364432  [    0/60000]\n",
            "loss: 0.328189  [ 6400/60000]\n",
            "loss: 0.363023  [12800/60000]\n",
            "loss: 0.328146  [19200/60000]\n",
            "loss: 0.370410  [25600/60000]\n",
            "loss: 0.366835  [32000/60000]\n",
            "loss: 0.334860  [38400/60000]\n",
            "loss: 0.346922  [44800/60000]\n",
            "loss: 0.362761  [51200/60000]\n",
            "loss: 0.349531  [57600/60000]\n",
            "Avg loss: 0.359595 \n",
            "\n",
            "Epoch 9\n",
            "-------------------------------\n",
            "loss: 0.363028  [    0/60000]\n",
            "loss: 0.326865  [ 6400/60000]\n",
            "loss: 0.361625  [12800/60000]\n",
            "loss: 0.326817  [19200/60000]\n",
            "loss: 0.369026  [25600/60000]\n",
            "loss: 0.365398  [32000/60000]\n",
            "loss: 0.333539  [38400/60000]\n",
            "loss: 0.345573  [44800/60000]\n",
            "loss: 0.361354  [51200/60000]\n",
            "loss: 0.348168  [57600/60000]\n",
            "Avg loss: 0.358209 \n",
            "\n",
            "Epoch 10\n",
            "-------------------------------\n",
            "loss: 0.361643  [    0/60000]\n",
            "loss: 0.325555  [ 6400/60000]\n",
            "loss: 0.360243  [12800/60000]\n",
            "loss: 0.325502  [19200/60000]\n",
            "loss: 0.367657  [25600/60000]\n",
            "loss: 0.363979  [32000/60000]\n",
            "loss: 0.332233  [38400/60000]\n",
            "loss: 0.344240  [44800/60000]\n",
            "loss: 0.359964  [51200/60000]\n",
            "loss: 0.346820  [57600/60000]\n",
            "Avg loss: 0.356840 \n",
            "\n",
            "Epoch 11\n",
            "-------------------------------\n",
            "loss: 0.360274  [    0/60000]\n",
            "loss: 0.324260  [ 6400/60000]\n",
            "loss: 0.358876  [12800/60000]\n",
            "loss: 0.324201  [19200/60000]\n",
            "loss: 0.366301  [25600/60000]\n",
            "loss: 0.362576  [32000/60000]\n",
            "loss: 0.330941  [38400/60000]\n",
            "loss: 0.342920  [44800/60000]\n",
            "loss: 0.358590  [51200/60000]\n",
            "loss: 0.345486  [57600/60000]\n",
            "Avg loss: 0.355485 \n",
            "\n",
            "Epoch 12\n",
            "-------------------------------\n",
            "loss: 0.358920  [    0/60000]\n",
            "loss: 0.322977  [ 6400/60000]\n",
            "loss: 0.357520  [12800/60000]\n",
            "loss: 0.322911  [19200/60000]\n",
            "loss: 0.364956  [25600/60000]\n",
            "loss: 0.361187  [32000/60000]\n",
            "loss: 0.329660  [38400/60000]\n",
            "loss: 0.341612  [44800/60000]\n",
            "loss: 0.357228  [51200/60000]\n",
            "loss: 0.344164  [57600/60000]\n",
            "Avg loss: 0.354143 \n",
            "\n",
            "Epoch 13\n",
            "-------------------------------\n",
            "loss: 0.357578  [    0/60000]\n",
            "loss: 0.321705  [ 6400/60000]\n",
            "loss: 0.356177  [12800/60000]\n",
            "loss: 0.321633  [19200/60000]\n",
            "loss: 0.363622  [25600/60000]\n",
            "loss: 0.359812  [32000/60000]\n",
            "loss: 0.328390  [38400/60000]\n",
            "loss: 0.340315  [44800/60000]\n",
            "loss: 0.355880  [51200/60000]\n",
            "loss: 0.342853  [57600/60000]\n",
            "Avg loss: 0.352813 \n",
            "\n",
            "Epoch 14\n",
            "-------------------------------\n",
            "loss: 0.356248  [    0/60000]\n",
            "loss: 0.320444  [ 6400/60000]\n",
            "loss: 0.354845  [12800/60000]\n",
            "loss: 0.320364  [19200/60000]\n",
            "loss: 0.362297  [25600/60000]\n",
            "loss: 0.358449  [32000/60000]\n",
            "loss: 0.327131  [38400/60000]\n",
            "loss: 0.339029  [44800/60000]\n",
            "loss: 0.354542  [51200/60000]\n",
            "loss: 0.341553  [57600/60000]\n",
            "Avg loss: 0.351494 \n",
            "\n",
            "Epoch 15\n",
            "-------------------------------\n",
            "loss: 0.354929  [    0/60000]\n",
            "loss: 0.319192  [ 6400/60000]\n",
            "loss: 0.353524  [12800/60000]\n",
            "loss: 0.319105  [19200/60000]\n",
            "loss: 0.360982  [25600/60000]\n",
            "loss: 0.357097  [32000/60000]\n",
            "loss: 0.325880  [38400/60000]\n",
            "loss: 0.337752  [44800/60000]\n",
            "loss: 0.353216  [51200/60000]\n",
            "loss: 0.340262  [57600/60000]\n",
            "Avg loss: 0.350186 \n",
            "\n",
            "Done!\n"
          ]
        }
      ],
      "source": [
        "epochs = 15\n",
        "for t in range(epochs):\n",
        "    print(f\"Epoch {t+1}\\n-------------------------------\")\n",
        "    train(train_dataloader, autoencoder, loss_fn, optimizer)\n",
        "    test(test_dataloader, autoencoder, loss_fn)\n",
        "print(\"Done!\")"
      ]
    },
    {
      "cell_type": "code",
      "execution_count": 17,
      "metadata": {
        "colab": {
          "base_uri": "https://localhost:8080/",
          "height": 270
        },
        "id": "l39SXZGUKkUc",
        "outputId": "f9f652e9-d902-4de4-d163-a53e4dd8946c"
      },
      "outputs": [
        {
          "output_type": "display_data",
          "data": {
            "text/plain": [
              "<Figure size 600x300 with 2 Axes>"
            ],
            "image/png": "[encoded data removed]"
          },
          "metadata": {}
        }
      ],
      "source": [
        "autoencoder.eval()\n",
        "\n",
        "image = test_data[0][0].unsqueeze(0).to(device)\n",
        "\n",
        "image_flattened = image.view(-1, 28*28)\n",
        "\n",
        "with torch.no_grad():\n",
        "    output = autoencoder(image_flattened)\n",
        "    output = output.view(28, 28)\n",
        "\n",
        "figure, ax = plt.subplots(1, 2, figsize=(6, 3))\n",
        "\n",
        "ax[0].imshow(image[0][0].cpu(), cmap='gray')\n",
        "ax[0].title.set_text('Original Image')\n",
        "ax[0].axis('off')\n",
        "\n",
        "\n",
        "ax[1].imshow(output.cpu(), cmap='gray')\n",
        "ax[1].title.set_text('Reconstructed Image')\n",
        "ax[1].axis('off')\n",
        "\n",
        "plt.show()"
      ]
    },
    {
      "cell_type": "code",
      "source": [],
      "metadata": {
        "id": "vsMshun9QDRU"
      },
      "execution_count": null,
      "outputs": []
    }
  ],
  "metadata": {
    "kernelspec": {
      "display_name": "Python 3",
      "name": "python3"
    },
    "language_info": {
      "codemirror_mode": {
        "name": "ipython",
        "version": 3
      },
      "file_extension": ".py",
      "mimetype": "text/x-python",
      "name": "python",
      "nbconvert_exporter": "python",
      "pygments_lexer": "ipython3",
      "version": "3.11.3"
    },
    "colab": {
      "provenance": [],
      "gpuType": "T4",
      "include_colab_link": true
    },
    "accelerator": "GPU"
  },
  "nbformat": 4,
  "nbformat_minor": 0
}